{
 "cells": [
  {
   "cell_type": "code",
   "execution_count": 2,
   "id": "05f8c9eb",
   "metadata": {},
   "outputs": [
    {
     "name": "stdout",
     "output_type": "stream",
     "text": [
      "Requirement already satisfied: missingno in ./opt/anaconda3/lib/python3.9/site-packages (0.5.1)\n",
      "Requirement already satisfied: seaborn in ./opt/anaconda3/lib/python3.9/site-packages (from missingno) (0.11.2)\n",
      "Requirement already satisfied: numpy in ./opt/anaconda3/lib/python3.9/site-packages (from missingno) (1.20.3)\n",
      "Requirement already satisfied: scipy in ./opt/anaconda3/lib/python3.9/site-packages (from missingno) (1.7.1)\n",
      "Requirement already satisfied: matplotlib in ./opt/anaconda3/lib/python3.9/site-packages (from missingno) (3.4.3)\n",
      "Requirement already satisfied: pyparsing>=2.2.1 in ./opt/anaconda3/lib/python3.9/site-packages (from matplotlib->missingno) (3.0.4)\n",
      "Requirement already satisfied: python-dateutil>=2.7 in ./opt/anaconda3/lib/python3.9/site-packages (from matplotlib->missingno) (2.8.2)\n",
      "Requirement already satisfied: cycler>=0.10 in ./opt/anaconda3/lib/python3.9/site-packages (from matplotlib->missingno) (0.10.0)\n",
      "Requirement already satisfied: kiwisolver>=1.0.1 in ./opt/anaconda3/lib/python3.9/site-packages (from matplotlib->missingno) (1.3.1)\n",
      "Requirement already satisfied: pillow>=6.2.0 in ./opt/anaconda3/lib/python3.9/site-packages (from matplotlib->missingno) (8.4.0)\n",
      "Requirement already satisfied: six in ./opt/anaconda3/lib/python3.9/site-packages (from cycler>=0.10->matplotlib->missingno) (1.16.0)\n",
      "Requirement already satisfied: pandas>=0.23 in ./opt/anaconda3/lib/python3.9/site-packages (from seaborn->missingno) (1.3.4)\n",
      "Requirement already satisfied: pytz>=2017.3 in ./opt/anaconda3/lib/python3.9/site-packages (from pandas>=0.23->seaborn->missingno) (2021.3)\n"
     ]
    }
   ],
   "source": [
    "import re\n",
    "import numpy as np\n",
    "import pandas as pd\n",
    "import matplotlib.pyplot as plt\n",
    "import seaborn as sns\n",
    "!pip install missingno # my favorite NaN visualizer\n",
    "import missingno as msno\n",
    "\n",
    "\n",
    "# Some copy-pasta options to improve print quality\n",
    "pd.set_option('display.max_rows', None)\n",
    "pd.set_option('display.max_columns', None)\n",
    "pd.set_option('display.width', 1000)\n",
    "pd.set_option('display.colheader_justify', 'center')\n",
    "pd.set_option('display.precision', 3)\n"
   ]
  },
  {
   "cell_type": "code",
   "execution_count": 3,
   "id": "4dd70077",
   "metadata": {},
   "outputs": [],
   "source": [
    "# Designate data types for imports\n",
    "data_types = {'Category': 'category', 'Qty': 'float64', 'Price Point Name': 'category', 'Event Type': 'category'}\n",
    "files = [\"items_2013_raw.csv\", \"items_2014_raw.csv\", \"items_2015_raw.csv\", \n",
    "         \"items_2016_raw.csv\", \"items_2017_raw.csv\", \"items_2018_raw.csv\", \n",
    "         \"items_2019_raw.csv\", \"items_2020_raw.csv\", \"items_2021_raw.csv\"] \n",
    "df = pd.DataFrame()\n",
    "\n",
    "# create a dataset containing all transactions from the last 9 years\n",
    "for file in files:\n",
    "    path = '/Users/mymac/Desktop/Comet_Data/Items/'+file\n",
    "    # import csv\n",
    "    if df.empty == False:\n",
    "        df_raw = pd.read_csv(path, parse_dates=[['Date', 'Time']], thousands=',', dtype=data_types)\n",
    "\n",
    "        # convert dollar strings to workable floats\n",
    "        dollar_cols =[\"Gross Sales\", \"Discounts\", \"Net Sales\", \"Tax\"]\n",
    "        df_raw[dollar_cols] = df_raw[dollar_cols].replace('[\\$,]', '', regex=True).astype(float)\n",
    "\n",
    "        # only a couple odd fractional values in qty, we'll make it an integer column\n",
    "        df_raw[\"Qty\"] = df_raw[\"Qty\"].round().astype('int64')\n",
    "\n",
    "        # a few columns without immediately useful information we can remove\n",
    "        df_raw.drop(labels=[\"SKU\", \"Device Name\", \"Dining Option\", \n",
    "                        \"Time Zone\", \"Unit\", \"Notes\", \n",
    "                        \"Price Point Name\", \"Details\", \"Count\", \n",
    "                        \"Payment ID\", \"Customer ID\"], axis=1, inplace=True)\n",
    "        df = pd.concat([df, df_raw], ignore_index=True)\n",
    "        \n",
    "    # create the DataFrame\n",
    "    else: \n",
    "        df = pd.read_csv(path, parse_dates=[['Date', 'Time']], thousands=',', dtype = data_types)\n",
    "        dollar_cols =[\"Gross Sales\", \"Discounts\", \"Net Sales\", \"Tax\"]\n",
    "        df[dollar_cols] = df[dollar_cols].replace('[\\$,]', '', regex=True).astype(float)\n",
    "        df[\"Qty\"] = df[\"Qty\"].round().astype('int64')\n",
    "        df.drop(labels=[\"SKU\", \"Device Name\", \"Dining Option\", \n",
    "                        \"Time Zone\", \"Unit\", \"Notes\", \n",
    "                        \"Price Point Name\", \"Details\", \"Count\", \n",
    "                        \"Payment ID\", \"Customer ID\"], axis=1, inplace=True)\n",
    "\n",
    "# Write a complete dataset to your desktop\n",
    "df.to_csv('/Users/mymac/Desktop/all_items.csv')      "
   ]
  },
  {
   "cell_type": "code",
   "execution_count": 5,
   "id": "545298cd",
   "metadata": {
    "scrolled": true
   },
   "outputs": [
    {
     "name": "stdout",
     "output_type": "stream",
     "text": [
      "<class 'pandas.core.frame.DataFrame'>\n",
      "RangeIndex: 1043844 entries, 0 to 1043843\n",
      "Data columns (total 15 columns):\n",
      " #   Column                 Non-Null Count    Dtype         \n",
      "---  ------                 --------------    -----         \n",
      " 0   Unnamed: 0             1043844 non-null  int64         \n",
      " 1   Date_Time              1043844 non-null  datetime64[ns]\n",
      " 2   Category               1043844 non-null  category      \n",
      " 3   Item                   1043844 non-null  object        \n",
      " 4   Qty                    1043844 non-null  int64         \n",
      " 5   Modifiers Applied      524772 non-null   object        \n",
      " 6   Gross Sales            1043844 non-null  float64       \n",
      " 7   Discounts              1043844 non-null  float64       \n",
      " 8   Net Sales              1043844 non-null  float64       \n",
      " 9   Tax                    1043844 non-null  float64       \n",
      " 10  Transaction ID         1043844 non-null  object        \n",
      " 11  Event Type             1043844 non-null  category      \n",
      " 12  Location               1043844 non-null  category      \n",
      " 13  Customer Name          605034 non-null   object        \n",
      " 14  Customer Reference ID  306588 non-null   object        \n",
      "dtypes: category(3), datetime64[ns](1), float64(4), int64(2), object(5)\n",
      "memory usage: 98.6+ MB\n"
     ]
    }
   ],
   "source": [
    "# Update our new file's value types to reduce its size.\n",
    "data_types = {'Category': 'category', 'Qty': 'int64', 'Price Point Name': 'category', \n",
    "              'Event Type': 'category', 'Location': 'category'}\n",
    "df = pd.read_csv('/Users/mymac/Desktop/all_items.csv', parse_dates=['Date_Time'], dtype=data_types)\n",
    "df.info()"
   ]
  },
  {
   "cell_type": "code",
   "execution_count": 6,
   "id": "db4ef58f",
   "metadata": {},
   "outputs": [],
   "source": [
    "# Remove added index column\n",
    "df.drop(\"Unnamed: 0\", axis=1, inplace=True)\n",
    "\n",
    "# And sort df by Date_Time\n",
    "df.sort_values(by=\"Date_Time\", inplace=True)"
   ]
  },
  {
   "cell_type": "code",
   "execution_count": 7,
   "id": "a9131fac",
   "metadata": {},
   "outputs": [
    {
     "data": {
      "text/plain": [
       "<AxesSubplot:>"
      ]
     },
     "execution_count": 7,
     "metadata": {},
     "output_type": "execute_result"
    },
    {
     "data": {
      "image/png": "[encoded data removed]",
      "text/plain": [
       "<Figure size 1800x720 with 2 Axes>"
      ]
     },
     "metadata": {
      "needs_background": "light"
     },
     "output_type": "display_data"
    }
   ],
   "source": [
    "# Examine the completeness of our new dataset\n",
    "\n",
    "msno.matrix(df)\n",
    "\n",
    "# The interesting field here is \"Customer Name\"; the name is only taken when a card is used.\n",
    "# Note how the frequency increases over time. During the pandemic we transitioned to online-only\n",
    "# transactions; so a significant portion of the customer data during that period is complete."
   ]
  },
  {
   "cell_type": "code",
   "execution_count": 8,
   "id": "a6d59d8d",
   "metadata": {},
   "outputs": [
    {
     "name": "stdout",
     "output_type": "stream",
     "text": [
      "Category\n",
      "Coffee      609709\n",
      "Bakery      455098\n",
      "Retail       44343\n",
      "None         22979\n",
      "Kitchen      21632\n",
      "Creamery     17402\n",
      "Payment        218\n",
      "Name: Qty, dtype: int64\n"
     ]
    },
    {
     "data": {
      "text/plain": [
       "<AxesSubplot:xlabel='Category'>"
      ]
     },
     "execution_count": 8,
     "metadata": {},
     "output_type": "execute_result"
    },
    {
     "data": {
      "image/png": "[encoded data removed]",
      "text/plain": [
       "<Figure size 432x288 with 1 Axes>"
      ]
     },
     "metadata": {
      "needs_background": "light"
     },
     "output_type": "display_data"
    }
   ],
   "source": [
    "# A List of Item Types and their sales frequency\n",
    "cats = df.groupby(\"Category\").Qty.sum().sort_values(ascending=False)\n",
    "print(cats)\n",
    "cats.plot(kind='bar')"
   ]
  },
  {
   "cell_type": "code",
   "execution_count": 9,
   "id": "9c739941",
   "metadata": {},
   "outputs": [
    {
     "data": {
      "text/plain": [
       "<function matplotlib.pyplot.show(close=None, block=None)>"
      ]
     },
     "execution_count": 9,
     "metadata": {},
     "output_type": "execute_result"
    },
    {
     "data": {
      "image/png": "[encoded data removed]",
      "text/plain": [
       "<Figure size 432x288 with 1 Axes>"
      ]
     },
     "metadata": {
      "needs_background": "light"
     },
     "output_type": "display_data"
    }
   ],
   "source": [
    "# A quick look at how important the retention of regulars is. For future analysis, a metric for customer churn\n",
    "# would be a useful tool.\n",
    "x = df.groupby(\"Customer Name\").sum().sort_values(by=\"Qty\",ascending=False)\n",
    "\n",
    "values = []\n",
    "values_i = []\n",
    "bin_w = 250\n",
    "d = 0\n",
    "g = 0\n",
    "for s in range(int(x[\"Net Sales\"].count()/bin_w)+1):\n",
    "    value = x.iloc[bin_w*(s-1):bin_w*s, 3].sum()/x.iloc[:, 3].sum()\n",
    "    delta = abs(d+value)\n",
    "    values.append(delta)\n",
    "    d = delta\n",
    "\n",
    "for s in range(int(x[\"Net Sales\"].count()/bin_w)+1):\n",
    "    value = x.iloc[bin_w*(s-1):bin_w*s, 3].sum()/x.iloc[:, 3].sum()\n",
    "    delta = abs(value)\n",
    "    values_i.append(delta)\n",
    "    \n",
    "d = pd.Series(values)\n",
    "g = pd.Series(values_i)\n",
    "d.plot(kind='bar')\n",
    "plt.title('Customer Item Share, CDF')\n",
    "plt.xlabel(f\"Groups of {bin_w} unique customers\")\n",
    "plt.xticks([])\n",
    "plt.ylabel(\"Cummulative % share\")\n",
    "plt.show"
   ]
  },
  {
   "cell_type": "code",
   "execution_count": 10,
   "id": "c252e131",
   "metadata": {
    "scrolled": true
   },
   "outputs": [
    {
     "data": {
      "text/plain": [
       "<function matplotlib.pyplot.show(close=None, block=None)>"
      ]
     },
     "execution_count": 10,
     "metadata": {},
     "output_type": "execute_result"
    },
    {
     "data": {
      "image/png": "[encoded data removed]",
      "text/plain": [
       "<Figure size 432x288 with 1 Axes>"
      ]
     },
     "metadata": {
      "needs_background": "light"
     },
     "output_type": "display_data"
    }
   ],
   "source": [
    "g.plot(kind='bar')\n",
    "plt.title(f'Customer Item Count Purchase Shares (by {bin_w} person groups)')\n",
    "plt.xlabel(f\"Groups of {bin_w} unique customers\")\n",
    "plt.xticks([])\n",
    "plt.ylabel(\"% Share of items purchased\")\n",
    "plt.show"
   ]
  },
  {
   "cell_type": "code",
   "execution_count": 11,
   "id": "5f877613",
   "metadata": {},
   "outputs": [],
   "source": [
    "# Creating a new item column to use for analysis w/ generalized item names.\n",
    "df[\"Item2\"] = df[\"Item\"]"
   ]
  },
  {
   "cell_type": "code",
   "execution_count": 12,
   "id": "7b8fac27",
   "metadata": {},
   "outputs": [
    {
     "data": {
      "text/plain": [
       "Category\n",
       "Bakery      370\n",
       "Coffee      154\n",
       "None        286\n",
       "Retail      326\n",
       "Payment       4\n",
       "Creamery     49\n",
       "Kitchen     272\n",
       "Name: Item2, dtype: int64"
      ]
     },
     "execution_count": 12,
     "metadata": {},
     "output_type": "execute_result"
    }
   ],
   "source": [
    "# There are too many items in each category to do meaningful analysis. We'll go granular and get them bundled.\n",
    "df.groupby(\"Category\").Item2.nunique()"
   ]
  },
  {
   "cell_type": "code",
   "execution_count": 13,
   "id": "98c63821",
   "metadata": {},
   "outputs": [],
   "source": [
    "# temp = pd.Series(df[df.Category=='Kitchen'].Item.unique())\n",
    "# temp2 = sorted(temp)\n",
    "# sum(['Quiche' in s for s in temp2])\n",
    "\n",
    "# A few quick changes for some of our items. We're going to get a few varieties lumped as single item names.\n",
    "item_updates = {\n",
    "'uiche': 'Quiche', \n",
    " 'Potato Leek Gruyere': 'Quiche', \n",
    " 'Gateau': 'Cake', \n",
    " 'cake': 'Cake', \n",
    " 'Cake': 'Cake', \n",
    " 'Whoopie Pie': 'Whoopie', \n",
    " 'Pie': 'Pie', \n",
    " 'pie': 'Pie', \n",
    " 'Breakfast Sandwich': 'Breakfast Sandwich', \n",
    " 'Brioche': 'Sweet_brioche', \n",
    " 'heesecake': 'Cheesecake', \n",
    " 'Korean Noodles: Gochujang Hobak Jjigae': 'Korean_noodles',\n",
    " 'Shortbread Bar': 'Shortbread_bar',\n",
    " 'hortbread': 'Shortbread', \n",
    " 'Tax-exempt pain au chocolat': 'Pain au Chocolat', \n",
    " 'Gluten Free Buckwheat Chocolate Chip Muffin': 'GF Buckwheat Muffin', \n",
    " 'Gluten Free Buckwheat Chocolate Chip muffin': 'GF Buckwheat Muffin', \n",
    " '\\\\*NEW\\\\* Gluten Free Chocolate Chip Cookies': 'GF Chocolate Chip Cookie',\n",
    " 'Gluten Free Buckwheat Chocolate Chip Cookie': 'GF Chocolate Chip Cookie',\n",
    "    'Sweet Bloom': 'Whole Bean',\n",
    "    'bean': 'Whole Bean',\n",
    "    'Bean': 'Whole Bean'\n",
    "    \n",
    "\n",
    "}\n",
    "\n",
    "def replace_col(find, replace_with, dataframe, column):\n",
    "    ''' Takes a string(find), looks for it in a specified column(dataframe[column]), \n",
    "        and then replaces all occurrences with a specified substring(replace_with).\n",
    "        \n",
    "        find: string value, required\n",
    "        replace_with: string value, required\n",
    "        dataframe: name of dataframe object, required\n",
    "        column: string or integer value, name of column to search, required'''\n",
    "    mask = dataframe[column].str.contains(find)\n",
    "    dataframe.loc[mask, column]=replace_with\n",
    "\n",
    "for key, value in item_updates.items():\n",
    "    replace_col(key, value, df, 'Item2')\n",
    "\n",
    "# for key, value in item_updates.items():\n",
    "#     temp_mask = df.Item2.str.contains(key)\n",
    "#     df.loc[temp_mask, \"Item2\"]=value\n"
   ]
  },
  {
   "cell_type": "code",
   "execution_count": 14,
   "id": "ac11e5b4",
   "metadata": {},
   "outputs": [],
   "source": [
    "# We're interested in Flavored Latte sales. Some of them are classified as 'Latte' with modifiers, \n",
    "# some are classified as 'Flavored Latte'. Let's get them all under 'Flavored Latte'\n",
    "\n",
    "# fill NaN values so Boolean subsetting will work below\n",
    "df[\"Modifiers Applied\"] = df[\"Modifiers Applied\"].fillna(\"None\")\n",
    "\n",
    "# Compile a list of all the latte flavors from the Mod column (check df[\"Modifiers Applied\"].value_counts())\n",
    "flavored_latte = ['Seasonal Pumpkin', 'Vanilla', 'Caramel', 'Dark Chocolate', \n",
    "                  'Spring Lavender & Honey', 'Pumpkin']\n",
    "\n",
    "# loop through the flavors\n",
    "for flavor in flavored_latte:\n",
    "    # create a subset Boolean series\n",
    "    m = df.loc[df[\"Item2\"] == \"Latte\", \"Modifiers Applied\"].str.contains(flavor)\n",
    "    # Subset df to only include Latte rows, subset THAT with m and change Latte to Flavored Latte\n",
    "    df.update(df.loc[df[\"Item2\"] == \"Latte\", :].loc[m, \"Item2\"].replace(to_replace = 'Latte', value='Flavored Latte'))\n",
    "    \n",
    "    "
   ]
  },
  {
   "cell_type": "code",
   "execution_count": 15,
   "id": "bc7ba0fd",
   "metadata": {},
   "outputs": [],
   "source": [
    "# 3 Items we sell a good bit of are hand brewed coffees, espresso, and bags of whole bean.\n",
    "# Unfortunately, they are under many different names and to do any analysis on them we need\n",
    "# to get them relabeled into broader items: 'Hand Brewed Coffee', 'Espresso', 'Whole Bean'\n",
    "\n",
    "espresso_alias = ['Tandem Kenya Kiboi', 'Brandywine Ethiopia Wude Makiso - natural', \n",
    "                  'Ethiopia Wachu', 'Ethiopia Wude Makino', 'Ceremony Peru Suyo', \n",
    "                  'Sump Zambia, Keteshi', 'Double Espresso', \n",
    "                  'Doppio Espresso', 'Blueprint Shot', 'Brick House - Kaldis', \n",
    "                  '17ft Ceiling', 'Epic Espresso', 'Creamery Espresso', 'Square Mile']\n",
    "\n",
    "brew_alias = ['Brick House Brew', 'Coffee', 'Colombia Timana', 'Ethiopia Wachu', \n",
    "              'Brandywine Ethiopia Wude Makiso - natural', 'Tandem Kenya Kiboi', \n",
    "              'Sump Wolichu Wachu', 'Blueprint Colombia Finca Tamana', \n",
    "              'Brandywine Colombia San Pascual - Natural', 'Brandy Wine Ethiopia Wude Makiso', \n",
    "              'Brandywine Ethiopia Lemma Mamo', 'Ethiopia Wude Makino', \n",
    "              'Brandy Wine Ethiopia Lemma Mamo', 'Sump Zambia, Keteshi', 'Ceremony Peru Suyo', \n",
    "              'Brandywine Kenya Boma Peaberry', 'Bb Ethiopia ']\n",
    "\n",
    "\n",
    "df.update(df.loc[df[\"Category\"]==\"Coffee\", \"Item2\"].replace(to_replace=espresso_alias, value='Espresso'))\n",
    "df.update(df.loc[df[\"Category\"]==\"Coffee\", \"Item2\"].replace(to_replace=brew_alias, value='Hand Brewed Coffee'))  "
   ]
  },
  {
   "cell_type": "code",
   "execution_count": 16,
   "id": "2ceb2151",
   "metadata": {},
   "outputs": [],
   "source": [
    "whole_bean = ['Mexico','Blue Bottle', 'Costa Rica', 'Verve', 'Intelligentsia', \n",
    "              'Square Mile', 'Kuma - retail', \"PT's\", 'Blueprint', 'Detour', \n",
    "              'Colombia', 'Sump', '49th', 'Ecuador', 'Halfwit', \"PT's Coffee\", \n",
    "              'Bolivia',  '49th Parallel', 'Rwanda', 'Olympia Retail', 'Penrose Retail', \n",
    "              'Bbb', 'Tandem Ethiopia', 'Teshome Gemechu', 'Colombia - Finca Timana AAA', \n",
    "              'Sump Kenya Gachatha AB','Brandywine Kenya Kapluso AB', \n",
    "              'Brandywine Roasters Colombia', 'Rodrigo Sanchez El Progreso, Washed Process', \n",
    "              'Brandywine Honduras - Santa Barbara', 'Brandywine Ethiopia Wude Makiso - natural', \n",
    "              'PM Columbia Sweet & Flowers', 'PM Geisha tin', \n",
    "              'Proud Mary Costa Rica Finca La Angelina (Red Honey)', \n",
    "              'Brandywine Costa Rica  - Las Lajas - Black Honey', 'Proud Mary Honduras Chicos Buenos', \n",
    "              'Blueprint Gamatui Community', 'Brandywine Costa Rica  - Las Lajas - Perla Negra Natural', \n",
    "              'Proud Mary Deluxe 100g tin', 'Tandem Ethiopia, Teshome Gemechu', \n",
    "              'Brandywine Roasters Colombia, Rodrigo Sanchez El Progreso, Washed Process', \n",
    "              'Blueprint-retail', 'Honduras', 'Sump Kenya', 'Sump AB Kenya', 'Sump Natural Kenya', \n",
    "              'Kaldi\\'s', 'Intelli Decaf', '49th Para', 'Half Wit', 'Intelli Nicaragua', \n",
    "              'Intellihentsia', 'Hama', 'Quills Mexico', 'Kenya', 'Kagumoini', 'Ritual - Hunapu', \n",
    "              'Sump Konga', 'Terroir', 'Sump-Abaya', 'Roseline', 'Ritual - Columbia', 'Intelli Colombia', \n",
    "              'Quills', 'Blue-mex', 'Ritual']\n",
    "\n",
    "df.update(df.loc[df[\"Category\"]==\"Retail\", \"Item2\"].replace(to_replace=whole_bean, value='Whole Bean'))"
   ]
  },
  {
   "cell_type": "code",
   "execution_count": 17,
   "id": "6f56821f",
   "metadata": {
    "scrolled": true
   },
   "outputs": [
    {
     "data": {
      "text/plain": [
       "Whole Bean                                                        24851\n",
       "Bottled Beverage                                                   6234\n",
       "Brainy Oats                                                        1020\n",
       "$5 Gift Card                                                        984\n",
       "Dandelion Chocolate                                                 771\n",
       "Tea Retail                                                          409\n",
       "Herbal Teas                                                         362\n",
       "Hand Packed Pint                                                    336\n",
       "ComKom Kombucha                                                     184\n",
       "Rolling Lawns Whole Milk, 1/2 Gallon                                180\n",
       "Dick Taylor Chocolate                                               162\n",
       "Loose Leaf Tea Retail, 1oz                                          145\n",
       "Eclipse Glasses                                                     129\n",
       "Hario Filters, 100ct                                                102\n",
       "Craft Chocolate by Dick Taylor                                       96\n",
       "Com Kom Kombucha                                                     90\n",
       "Bonmac Filters - 100                                                 83\n",
       "T-Shirt                                                              80\n",
       "Limited Spring 2020 Truffle Box by Chef Rob Connoley                 62\n",
       "Rolling Lawns 12oz Chocolate Milk                                    57\n",
       "Red Bull                                                             55\n",
       "V60 Filters                                                          50\n",
       "Herbal Tisanes                                                       48\n",
       "Buttonwood Farm Local Eggs                                           47\n",
       "Limited Connoley / Comet Spring 2020 Coffee Truffle Collection       43\n",
       "T-Shirts                                                             38\n",
       "Yeast, saf-instant red label                                         37\n",
       "Comet Coffee T-shirt (Medium)                                        35\n",
       "Rolling Lawns 12oz Strawberry Milk                                   33\n",
       "33Cups                                                               30\n",
       "Bonmac Filters - 40                                                  24\n",
       "IngenuiTea                                                           20\n",
       "Bottled Drinks                                                       20\n",
       "Coffee Passport                                                      18\n",
       "Los Crestones                                                        16\n",
       "Kombucha Tea-Biotics                                                 12\n",
       "Tea Jar                                                              11\n",
       "3030 Colombia                                                        10\n",
       "Kilogram Chai                                                         9\n",
       "Homemade Vanilla Marshmallows                                         8\n",
       "Sleeve Of Cups                                                        8\n",
       "Drink                                                                 7\n",
       "Adagio Tea borosilicate storage container, 24oz                       7\n",
       "CD                                                                    5\n",
       "V60 Ceramic                                                           5\n",
       "Thermal Shirt                                                         5\n",
       "V60 Filters-40                                                        4\n",
       "Eva Solo                                                              3\n",
       "Rolling Lawns 12oz Milk                                               3\n",
       "Comet T-shirt (Medium)                                                3\n",
       "Diner Mug                                                             2\n",
       "t-shirt                                                               2\n",
       "Joe-to-Go Container                                                   2\n",
       "4x Eames DCW                                                          1\n",
       "CJ4000                                                                1\n",
       "Limited Spring 2020 Truffle Box by Chef Rob Conneley                  1\n",
       "Gift card                                                             1\n",
       "5oz Cap Cup                                                           1\n",
       "Fleur de Sel Sea Salt Chocolate Bar by Dick Taylor                    1\n",
       "Comet T-shirt (Small)                                                 1\n",
       "Virtual Hug                                                           1\n",
       "Name: Item2, dtype: int64"
      ]
     },
     "execution_count": 17,
     "metadata": {},
     "output_type": "execute_result"
    }
   ],
   "source": [
    "# Verify that we didn't miss any whole bean varieties\n",
    "df[df.Category==\"Retail\"].Item2.value_counts()"
   ]
  },
  {
   "cell_type": "code",
   "execution_count": 18,
   "id": "cea40fbe",
   "metadata": {},
   "outputs": [
    {
     "data": {
      "text/plain": [
       "1043844"
      ]
     },
     "execution_count": 18,
     "metadata": {},
     "output_type": "execute_result"
    }
   ],
   "source": [
    "df[\"Transaction ID\"].count()"
   ]
  },
  {
   "cell_type": "code",
   "execution_count": 19,
   "id": "4e001902",
   "metadata": {},
   "outputs": [
    {
     "data": {
      "text/plain": [
       "2.2"
      ]
     },
     "execution_count": 19,
     "metadata": {},
     "output_type": "execute_result"
    }
   ],
   "source": [
    "# How many items per order on average?\n",
    "round(df[\"Qty\"].sum()/df[\"Transaction ID\"].nunique(),2)"
   ]
  },
  {
   "cell_type": "code",
   "execution_count": 49,
   "id": "288a7a30",
   "metadata": {},
   "outputs": [],
   "source": [
    "# Some test code used for formulating the following function\n",
    "# ID_list = df[\"Transaction ID\"].unique().tolist()\n",
    "\n",
    "# ID_Bool = df[\"Transaction ID\"].isin(ID_list)\n",
    "\n",
    "# df_sub = df.loc[ID_Bool, \"Item\"]\n",
    "\n",
    "# df_sub2 = df_sub[df_sub != \"Quiche\"]\n",
    "\n",
    "\n",
    "# total = df_sub2.groupby(df_sub2).count().sum()\n",
    "# df_sub2.groupby(df_sub2).count().sort_values(ascending=False).index[:5].tolist()\n",
    "# df_sub2.groupby(df_sub2).count().sort_values(ascending=False)[:5]\n",
    "#print(total)"
   ]
  },
  {
   "cell_type": "code",
   "execution_count": 20,
   "id": "e392e9fb",
   "metadata": {},
   "outputs": [],
   "source": [
    "def pairing(yummy):\n",
    "    '''Takes the string value of an element of the Item2 category and produces a bar plot of the \n",
    "       10 most common items purchased with the element.'''\n",
    "    if yummy in df.Item2.unique():\n",
    "        ID_list = df.loc[df.Item2 == yummy, \"Transaction ID\"]\n",
    "        ID_list = ID_list.unique()\n",
    "        ID_Bool = df[\"Transaction ID\"].isin(ID_list)\n",
    "        df_sub = df.loc[ID_Bool, \"Item2\"]\n",
    "        df_sub2 = df_sub[df_sub != yummy]\n",
    "        # total = df_sub2.groupby(df_sub2).count().sum()\n",
    "        total_tickets = len(ID_list)\n",
    "        dat = ((df_sub2.groupby(df_sub2).count().sort_values(ascending=False)[:10]/total_tickets)*100).round(1)\n",
    "        g = sns.barplot(x=dat.index, y=dat.values)\n",
    "        g.set(xlabel = \"Yummy\", ylabel = \"%\", title=f\"% of time item accompanies {yummy}\" )\n",
    "        plt.xticks(rotation=90)\n",
    "        plt.show()\n",
    "    else:\n",
    "        return \"Item not found\"\n",
    "    "
   ]
  },
  {
   "cell_type": "code",
   "execution_count": 22,
   "id": "40580a32",
   "metadata": {},
   "outputs": [
    {
     "data": {
      "image/png": "[encoded data removed]",
      "text/plain": [
       "<Figure size 432x288 with 1 Axes>"
      ]
     },
     "metadata": {
      "needs_background": "light"
     },
     "output_type": "display_data"
    }
   ],
   "source": [
    "pairing(yummy=\"Flavored Latte\")\n"
   ]
  },
  {
   "cell_type": "markdown",
   "id": "3c603520",
   "metadata": {},
   "source": [
    "Now let's turn our attention to sales volume by hour. During the mid-2020 period of the pandemic I made a decision to reduce our operating hours from 7am-5pm to 7am-2pm. Note that in addition to the hours of operation, 1-2 hours is required in the morning to setup and roughly 30 minutes is required to close down. This presents us with a scheduling window of roughly 12 hours -- not ideal for filling with full-time employees (8-9 hour shifts) that, of course, prefer regularity of hours. Reducing this hours-of-operation window to 7 hours made for a neat 8-9 hour work day for all full time employees. Additionally, the marginal product of labor was greatly increased as a result of dropping the much less productive 2-5pm slump, shown below."
   ]
  },
  {
   "cell_type": "code",
   "execution_count": 24,
   "id": "bd2abee2",
   "metadata": {},
   "outputs": [],
   "source": [
    "# create some quick date time sub-value columns for ease of analysis\n",
    "df[\"Year\"] = df.Date_Time.dt.year\n",
    "df[\"Month\"] = df.Date_Time.dt.month.astype('category')\n",
    "df[\"Day\"] = df.Date_Time.dt.dayofweek.astype('category')\n",
    "df[\"Hour\"] = df.Date_Time.dt.hour.astype('category')"
   ]
  },
  {
   "cell_type": "code",
   "execution_count": 25,
   "id": "6bba7ec7",
   "metadata": {},
   "outputs": [],
   "source": [
    "# transform to ordered categories so analysis functions properly\n",
    "\n",
    "months = list(range(1,13))\n",
    "days = list(range(7))\n",
    "hours = list(range(24))\n",
    "\n",
    "df[\"Month\"] = pd.Categorical(df.Month, categories = months, ordered = True)\n",
    "df[\"Day\"] = pd.Categorical(df.Day, categories = days, ordered = True)\n",
    "df[\"Hour\"] = pd.Categorical(df.Hour, categories = hours, ordered = True)"
   ]
  },
  {
   "cell_type": "code",
   "execution_count": 26,
   "id": "3a0bdff4",
   "metadata": {},
   "outputs": [
    {
     "name": "stdout",
     "output_type": "stream",
     "text": [
      "<class 'pandas.core.frame.DataFrame'>\n",
      "Int64Index: 1043844 entries, 59030 to 937051\n",
      "Data columns (total 19 columns):\n",
      " #   Column                 Non-Null Count    Dtype         \n",
      "---  ------                 --------------    -----         \n",
      " 0   Date_Time              1043844 non-null  datetime64[ns]\n",
      " 1   Category               1043844 non-null  category      \n",
      " 2   Item                   1043844 non-null  object        \n",
      " 3   Qty                    1043844 non-null  int64         \n",
      " 4   Modifiers Applied      1043844 non-null  object        \n",
      " 5   Gross Sales            1043844 non-null  float64       \n",
      " 6   Discounts              1043844 non-null  float64       \n",
      " 7   Net Sales              1043844 non-null  float64       \n",
      " 8   Tax                    1043844 non-null  float64       \n",
      " 9   Transaction ID         1043844 non-null  object        \n",
      " 10  Event Type             1043844 non-null  category      \n",
      " 11  Location               1043844 non-null  category      \n",
      " 12  Customer Name          605034 non-null   object        \n",
      " 13  Customer Reference ID  306588 non-null   object        \n",
      " 14  Item2                  1043844 non-null  object        \n",
      " 15  Year                   1043844 non-null  int64         \n",
      " 16  Month                  1043844 non-null  category      \n",
      " 17  Day                    1043844 non-null  category      \n",
      " 18  Hour                   1043844 non-null  category      \n",
      "dtypes: category(6), datetime64[ns](1), float64(4), int64(2), object(6)\n",
      "memory usage: 117.5+ MB\n"
     ]
    }
   ],
   "source": [
    "df.info()"
   ]
  },
  {
   "cell_type": "code",
   "execution_count": 27,
   "id": "91f31dbd",
   "metadata": {},
   "outputs": [],
   "source": [
    "all_revenue = df[\"Gross Sales\"].sum()\n",
    "\n",
    "query = df[[\"Hour\", \"Gross Sales\"]].groupby(\"Hour\").sum()*100/all_revenue\n"
   ]
  },
  {
   "cell_type": "code",
   "execution_count": 28,
   "id": "fc74af03",
   "metadata": {},
   "outputs": [
    {
     "data": {
      "image/png": "[encoded data removed]",
      "text/plain": [
       "<Figure size 432x288 with 1 Axes>"
      ]
     },
     "metadata": {
      "needs_background": "light"
     },
     "output_type": "display_data"
    }
   ],
   "source": [
    "g = sns.barplot(x=query.index, y=\"Gross Sales\", data=query)"
   ]
  }
 ],
 "metadata": {
  "kernelspec": {
   "display_name": "Python 3 (ipykernel)",
   "language": "python",
   "name": "python3"
  },
  "language_info": {
   "codemirror_mode": {
    "name": "ipython",
    "version": 3
   },
   "file_extension": ".py",
   "mimetype": "text/x-python",
   "name": "python",
   "nbconvert_exporter": "python",
   "pygments_lexer": "ipython3",
   "version": "3.9.7"
  }
 },
 "nbformat": 4,
 "nbformat_minor": 5
}
